{
  "cells": [
    {
      "cell_type": "markdown",
      "metadata": {
        "id": "view-in-github",
        "colab_type": "text"
      },
      "source": [
        "<a href=\"https://colab.research.google.com/github/nicomasterschool/Beispiel/blob/main/Data_Detective_Challenge.ipynb\" target=\"_parent\"><img src=\"https://colab.research.google.com/assets/colab-badge.svg\" alt=\"Open In Colab\"/></a>"
      ]
    },
    {
      "cell_type": "markdown",
      "id": "7c0facac",
      "metadata": {
        "id": "7c0facac"
      },
      "source": [
        "##🕵️ Data Detective: Die gestohlene Ming-Vase aus dem chinesischen Museumshaus 🏺✨\n"
      ]
    },
    {
      "cell_type": "markdown",
      "source": [
        "####🚨 **Das Verbrechen**\n",
        "\n",
        ">Am vergangenen Samstag, dem 08. Januar 2025, hat in Berlin eine exklusive Sonderausstellung im Chinesischen Museumshaus stattgefunden. Im Mittelpunkt stand eine besonders wertvolle und seltene Ming-Vase – geschätzter Wert: ca. 3,5 Millionen Euro. 💰 **Zwischen 11:19 und 11:30 Uhr wurde die wertvolle Ming-Vase gestohlen** 🏺💥. Sie befand sich in einem weniger einsehbaren Bereich der Sonderausstellung (Special Exhibit) und war nur durch eine leicht zugängliche Absperrung geschützt. Doch das war erst der Anfang: Genau in diesem Zeitraum kam es zu einem **unerklärlichen Stromausfall** ⚡, der sowohl den Sonderausstellungsbereich als auch Teile der Haupthalle (Main Hall) betraf.\n",
        "\n",
        "\n",
        "####**❌ Folge**\n",
        ">Die Überwachungskameras konnten den Vorfall wegen des plötzlichen Stromausfalls nicht aufzeichnen. 🔌💥 Die betroffenen Bereiche lagen in völliger Dunkelheit, wodurch die Vase unbeobachtet entwendet werden konnte – die Videoaufnahmen waren dadurch völlig unbrauchbar. Als der **Diebstahl um 11:30 Uhr gemeldet wurde**, blieb eine **schnelle und gründliche Kontrolle aller Besucher & Besucherinnen**, die sich zum Zeitpunkt des Diebstahls im Museum befanden, erfolglos – trotz intensiver Durchsuchung und Verhörung aller Besucher & Besucherinnen konnte die wertvolle Ming-Vase nicht gefunden werden. 🏛️❌\n",
        "\n",
        "####**🔎 Deine Mission**\n",
        ">Als Data Detective ist es deine Aufgabe, den **Tathergang bis ins Detail zu rekonstruieren** und herauszufinden, wer hinter diesem Diebstahl steckt, wie wurde der Diebstahl geplant und welche Personen sind darin involviert. Erstelle ein präzises Zeitprofil, das zeigt, wann und wie die verdächtigte Personen vorgegangen sind:\n",
        "\n",
        ">1.   Person A betritt das Museum um 9:45\n",
        ">2.   Bewegung durch das Museum (z.B. Raum A → Raum B) 📍\n",
        ">3.   Schlüsselmomente des Diebstahls (Wann wurde die Vase gestohlen?)\n",
        ">4.   Flucht oder Versteck der Vase 🚪\n",
        "\n",
        "####**💡 Tipp**\n",
        ">Nutze alle verfügbaren Hinweise: Zeitstempel, Bewegungsmuster der und Aktivitäten der Tatverdächtigten. Kombiniere Daten aus allen Protokollen und Logs, um ein vollständiges Bild vom Tathergang zu erstellen.\n",
        "\n",
        "####**🔐 Dein Ziel**\n",
        ">Finde den oder die TäterIn und beschreibe detailliert, wie der Diebstahl geplant und durchgeführt wurde. Beschreibe deine Vorgehensweise und Erkenntnisse anhand deiner Code-Schnipsel.\n",
        "\n",
        "👉 Egal ob **SQL oder Python**, Du wählst dein Analyseinstrument."
      ],
      "metadata": {
        "id": "LMH7OSZyIE2j"
      },
      "id": "LMH7OSZyIE2j"
    },
    {
      "cell_type": "markdown",
      "id": "5e1ac3c8",
      "metadata": {
        "id": "5e1ac3c8"
      },
      "source": [
        "\n",
        "## ✅ Environment einrichten\n",
        "\n",
        "\n",
        "1. Python Pakete importieren 📦\n",
        "2. Datenbankverbindung einrichten 🔌\n",
        "3. Tabellengrundlagen erstellen und mit Daten befüllen 🔢\n",
        "\n"
      ]
    },
    {
      "cell_type": "markdown",
      "source": [
        "#####📦 Import Python Libraries"
      ],
      "metadata": {
        "id": "69v1Qja54eFv"
      },
      "id": "69v1Qja54eFv"
    },
    {
      "cell_type": "code",
      "source": [
        "import pandas as pd\n",
        "import numpy as np\n",
        "import matplotlib.pyplot as plt\n",
        "import seaborn as sns\n",
        "import sqlite3"
      ],
      "metadata": {
        "id": "jnmgv6dy4frT"
      },
      "id": "jnmgv6dy4frT",
      "execution_count": 4,
      "outputs": []
    },
    {
      "cell_type": "markdown",
      "source": [
        "#####🔌 SQLite Datenbankverbindung herstellen"
      ],
      "metadata": {
        "id": "s_gcd1OE48gm"
      },
      "id": "s_gcd1OE48gm"
    },
    {
      "cell_type": "code",
      "source": [
        "# Neues SQLite database memory\n",
        "conn = sqlite3.connect(\":memory:\")"
      ],
      "metadata": {
        "id": "V414YVdU4991"
      },
      "id": "V414YVdU4991",
      "execution_count": 5,
      "outputs": []
    },
    {
      "cell_type": "markdown",
      "source": [
        "##### 🔢 Tabellengrundlagen erstellen und mit Daten befüllen"
      ],
      "metadata": {
        "id": "2GP4VoFG5hpa"
      },
      "id": "2GP4VoFG5hpa"
    },
    {
      "cell_type": "code",
      "execution_count": 6,
      "id": "d49e1b3f",
      "metadata": {
        "colab": {
          "base_uri": "https://localhost:8080/"
        },
        "id": "d49e1b3f",
        "outputId": "e1c2ce63-da1f-4161-8f45-9f59b0739381"
      },
      "outputs": [
        {
          "output_type": "execute_result",
          "data": {
            "text/plain": [
              "10"
            ]
          },
          "metadata": {},
          "execution_count": 6
        }
      ],
      "source": [
        "############# Tabellen erstellen #############\n",
        "\n",
        "visitors = pd.DataFrame({\n",
        "    'visitor_id': [\n",
        "        'V001', 'V002', 'V003', 'V004', 'V005', 'V006', 'V007', 'V008', 'V009', 'V010',\n",
        "        'V011', 'V012', 'V013', 'V014', 'V015', 'V016', 'V017', 'V018', 'V019', 'V020',\n",
        "        'V021', 'V022', 'V023', 'V024', 'V025'\n",
        "    ],\n",
        "    'visitor_name': [\n",
        "        'Michael Smith', 'Sarah Marlow', 'Harry Belafonte', 'Peter Harris', 'Karen Heights',\n",
        "        'Steve Allington', 'Ines Mallus', 'John Atticks', 'Lisa Mayer', 'Robert Schopf',\n",
        "        'Anja Schmoekel', 'Sebastian Bangemann', 'Vida Abbasi', 'Odilon Patrick Ogue',\n",
        "        'Snezana Kostic', 'Marianna Gokova', 'Yana Yelnikova', 'Serhii Sotnichenko',\n",
        "        'Mindo Siagian Kern', 'Thomas Koehler', 'Lars Petschke', 'Mahdi Aminmoghaddasi',\n",
        "        'Martin Svitek', 'Konstantin Milonas', 'Roksena Ilieva'\n",
        "    ],\n",
        " 'ticket_type':\n",
        "        ['entry + free souvenir item'] * 2 + ['entry + free drink'] * 2 + ['entry + free souvenir item'] * 3 + ['entry + free drink'] * 8 + ['entry + free souvenir item'] * 7 + ['entry + free drink'] * 3\n",
        "}\n",
        ")\n",
        "\n",
        "\n",
        "visitor_logs = pd.DataFrame({\n",
        "    'visitor_id': ['V001'] * 21+ ['V002'] * 18+ ['V003'] * 15 + ['V004'] * 14 + ['V005'] * 15 + ['V006'] * 15 + ['V007'] * 13 + ['V008'] * 14 + ['V009'] * 15 + ['V010'] * 14 + ['V011'] * 13 +  ['V012'] * 13 + ['V013'] * 13 + ['V014'] * 13 + ['V015'] * 13 + ['V016'] * 13 + ['V017'] * 13 + ['V018'] * 13 + ['V019'] * 13 + ['V020'] * 13 + ['V021'] * 13 + ['V022'] * 13 + ['V023'] * 13 + ['V024'] * 13 + ['V025'] * 13,\n",
        "    'building_section': [\n",
        "        #Michael Smith\n",
        "        'Entrance', 'Entrance/Exit Hall', 'Ticket Office', 'Entrance/Exit Hall', 'Gift Shop',\n",
        "        'Main Hall', 'Main Exhibit', 'Main Hall', 'Special Exhibit', 'Main Hall',\n",
        "        'Restrooms', 'Main Hall', 'Main Exhibit', 'Main Hall', 'Special Exhibit',\n",
        "        'Main Hall', 'Restrooms', 'Special Exhibit', 'Restrooms', 'Entrance/Exit Hall', 'Exit',\n",
        "        #Sarah Marlow\n",
        "        'Entrance', 'Entrance/Exit Hall', 'Main Hall', 'Gift Shop', 'Main Hall',\n",
        "        'Main Exhibit', 'Main Hall', 'Restrooms', 'Main Hall', 'Special Exhibit',\n",
        "        'Main Hall', 'Restrooms', 'Main Exhibit', 'Main Hall', 'Gift Shop',\n",
        "        'Main Hall', 'Entrance/Exit Hall', 'Exit',\n",
        "        #Harry Belafonte\n",
        "         'Entrance', 'Entrance/Exit Hall', 'Main Hall', 'Main Exhibit', 'Main Hall',\n",
        "        'Gift Shop', 'Main Hall', 'Special Exhibit', 'Main Hall', 'Restrooms',\n",
        "        'Main Hall', 'Special Exhibit', 'Main Hall', 'Entrance/Exit Hall', 'Exit',\n",
        "        #Peter Harris\n",
        "        'Entrance', 'Entrance/Exit Hall', 'Gift Shop', 'Main Hall', 'Main Exhibit',\n",
        "        'Main Hall', 'Special Exhibit', 'Main Hall', 'Restrooms', 'Main Hall',\n",
        "        'Special Exhibit', 'Main Hall', 'Entrance/Exit Hall', 'Exit',\n",
        "        #Karen Heights\n",
        "        'Entrance', 'Entrance/Exit Hall', 'Main Hall', 'Main Exhibit', 'Main Hall',\n",
        "        'Gift Shop', 'Main Hall', 'Special Exhibit', 'Main Hall', 'Restrooms',\n",
        "        'Main Hall', 'Special Exhibit', 'Main Hall', 'Entrance/Exit Hall', 'Exit',\n",
        "        #Steve Allington\n",
        "        'Entrance', 'Entrance/Exit Hall', 'Ticket Office', 'Main Hall', 'Main Exhibit',\n",
        "        'Main Hall', 'Gift Shop', 'Main Hall', 'Special Exhibit', 'Main Hall',\n",
        "        'Restrooms', 'Main Hall', 'Special Exhibit', 'Main Hall', 'Exit',\n",
        "        #Ines Mallus\n",
        "        'Entrance', 'Entrance/Exit Hall', 'Main Hall', 'Gift Shop', 'Main Hall',\n",
        "        'Main Exhibit', 'Main Hall', 'Restrooms', 'Main Hall', 'Special Exhibit',\n",
        "        'Main Hall', 'Entrance/Exit Hall', 'Exit',\n",
        "        #John Atticks\n",
        "        'Entrance', 'Entrance/Exit Hall', 'Ticket Office', 'Main Hall', 'Main Exhibit',\n",
        "        'Main Hall', 'Gift Shop', 'Main Hall', 'Restrooms', 'Main Hall',\n",
        "        'Special Exhibit', 'Main Hall', 'Entrance/Exit Hall', 'Exit',\n",
        "        #Lisa Mayer\n",
        "        'Entrance', 'Entrance/Exit Hall', 'Main Hall', 'Main Exhibit', 'Main Hall',\n",
        "        'Gift Shop', 'Main Hall', 'Special Exhibit', 'Main Hall', 'Restrooms',\n",
        "        'Main Hall', 'Special Exhibit', 'Main Hall', 'Entrance/Exit Hall', 'Exit',\n",
        "        #Robert Schopf\n",
        "        'Entrance', 'Entrance/Exit Hall', 'Ticket Office', 'Main Hall', 'Main Exhibit',\n",
        "        'Main Hall', 'Restrooms', 'Main Hall', 'Special Exhibit', 'Main Hall',\n",
        "        'Gift Shop', 'Main Hall', 'Entrance/Exit Hall', 'Exit',\n",
        "        #Anja Schmoekel\n",
        "        'Entrance', 'Entrance/Exit Hall', 'Main Hall', 'Gift Shop', 'Main Hall',\n",
        "        'Main Exhibit', 'Main Hall', 'Restrooms', 'Main Hall', 'Special Exhibit',\n",
        "        'Main Hall', 'Entrance/Exit Hall', 'Exit',\n",
        "        #Sebastian Bangemann\n",
        "        'Entrance', 'Entrance/Exit Hall', 'Main Hall', 'Main Exhibit', 'Main Hall',\n",
        "        'Gift Shop', 'Main Hall', 'Special Exhibit', 'Main Hall', 'Restrooms',\n",
        "        'Main Hall', 'Entrance/Exit Hall', 'Exit',\n",
        "        #Vida Abbasi\n",
        "        'Entrance', 'Entrance/Exit Hall', 'Main Hall', 'Gift Shop', 'Main Hall',\n",
        "        'Main Exhibit', 'Main Hall', 'Special Exhibit', 'Main Hall', 'Restrooms',\n",
        "        'Main Hall', 'Entrance/Exit Hall', 'Exit',\n",
        "        #Odilon Patrick Ogue\n",
        "        'Entrance', 'Entrance/Exit Hall', 'Main Hall', 'Main Exhibit', 'Main Hall',\n",
        "        'Gift Shop', 'Main Hall', 'Special Exhibit', 'Main Hall', 'Restrooms',\n",
        "        'Main Hall', 'Entrance/Exit Hall', 'Exit',\n",
        "        #Snezana Kostic\n",
        "        'Entrance', 'Entrance/Exit Hall', 'Main Hall', 'Gift Shop', 'Main Hall',\n",
        "        'Main Exhibit', 'Main Hall', 'Special Exhibit', 'Main Hall', 'Restrooms',\n",
        "        'Main Hall', 'Entrance/Exit Hall', 'Exit',\n",
        "        #Marianna Gokova\n",
        "        'Entrance', 'Entrance/Exit Hall', 'Main Hall', 'Main Exhibit', 'Main Hall',\n",
        "        'Gift Shop', 'Main Hall', 'Special Exhibit', 'Main Hall', 'Restrooms',\n",
        "        'Main Hall', 'Entrance/Exit Hall', 'Exit',\n",
        "        #Yana Yelnikova\n",
        "        'Entrance', 'Entrance/Exit Hall', 'Main Hall', 'Main Exhibit', 'Main Hall',\n",
        "        'Gift Shop', 'Main Hall', 'Special Exhibit', 'Main Hall', 'Restrooms',\n",
        "        'Main Hall', 'Entrance/Exit Hall', 'Exit',\n",
        "        #Serhii Sotnichenko\n",
        "        'Entrance', 'Entrance/Exit Hall', 'Main Hall', 'Main Exhibit', 'Main Hall',\n",
        "        'Gift Shop', 'Main Hall', 'Special Exhibit', 'Main Hall', 'Restrooms',\n",
        "        'Main Hall', 'Entrance/Exit Hall', 'Exit',\n",
        "        #Mindo Siagian Kern\n",
        "        'Entrance', 'Entrance/Exit Hall', 'Main Hall', 'Main Exhibit', 'Main Hall',\n",
        "        'Gift Shop', 'Main Hall', 'Special Exhibit', 'Main Hall', 'Restrooms',\n",
        "        'Main Hall', 'Entrance/Exit Hall', 'Exit',\n",
        "        #Thomas Koehler\n",
        "        'Entrance', 'Entrance/Exit Hall', 'Main Hall', 'Main Exhibit', 'Main Hall',\n",
        "        'Gift Shop', 'Main Hall', 'Special Exhibit', 'Main Hall', 'Restrooms',\n",
        "        'Main Hall', 'Entrance/Exit Hall', 'Exit',\n",
        "        # #Lars Petschke\n",
        "        'Entrance', 'Entrance/Exit Hall', 'Main Hall', 'Main Exhibit', 'Main Hall',\n",
        "        'Gift Shop', 'Main Hall', 'Special Exhibit', 'Main Hall', 'Restrooms',\n",
        "        'Main Hall', 'Entrance/Exit Hall', 'Exit',\n",
        "        # #Mahdi Aminmoghaddasi\n",
        "        'Entrance', 'Entrance/Exit Hall', 'Main Hall', 'Main Exhibit', 'Main Hall',\n",
        "        'Gift Shop', 'Main Hall', 'Special Exhibit', 'Main Hall', 'Restrooms',\n",
        "        'Main Hall', 'Entrance/Exit Hall', 'Exit',\n",
        "        # #Martin Svitek\n",
        "        'Entrance', 'Entrance/Exit Hall', 'Main Hall', 'Main Exhibit', 'Main Hall',\n",
        "        'Gift Shop', 'Main Hall', 'Special Exhibit', 'Main Hall', 'Restrooms',\n",
        "        'Main Hall', 'Entrance/Exit Hall', 'Exit',\n",
        "        # #Konstantin Milonas\n",
        "        'Entrance', 'Entrance/Exit Hall', 'Main Hall', 'Main Exhibit', 'Main Hall',\n",
        "        'Gift Shop', 'Main Hall', 'Special Exhibit', 'Main Hall', 'Restrooms',\n",
        "        'Main Hall', 'Entrance/Exit Hall', 'Exit',\n",
        "        # Roksena Ilieva\n",
        "        'Entrance', 'Entrance/Exit Hall', 'Main Hall', 'Main Exhibit', 'Main Hall',\n",
        "        'Gift Shop', 'Main Hall', 'Special Exhibit', 'Main Hall', 'Restrooms',\n",
        "        'Main Hall', 'Entrance/Exit Hall', 'Exit'\n",
        "    ],\n",
        "    'time_entered': [\n",
        "        #Michael Smith\n",
        "        '09:30 AM', '09:31 AM', '09:33 AM', '09:36 AM', '09:40 AM',\n",
        "        '09:50 AM', '09:55 AM', '10:05 AM', '10:10 AM', '10:20 AM',\n",
        "        '10:25 AM', '10:30 AM', '10:40 AM', '10:50 AM', '10:55 AM',\n",
        "        '11:05 AM', '11:15 AM', '11:20 AM', '11:25 AM', '11:29 AM', '11:30 AM',\n",
        "         #Sarah Marlow\n",
        "        '9:45 AM', '9:50 AM', '9:55 AM', '10:00 AM', '10:05 AM',\n",
        "        '10:10 AM', '10:15 AM', '10:20 AM', '10:25 AM', '10:30 AM',\n",
        "        '10:35 AM', '10:40 AM', '10:45 AM', '10:50 AM', '10:55 AM',\n",
        "        '11:00 AM', '11:05 AM', '11:10 AM',\n",
        "        #Harry Belafonte\n",
        "        '10:00 AM', '10:05 AM', '10:10 AM', '10:15 AM', '10:20 AM',\n",
        "        '10:25 AM', '10:30 AM', '10:35 AM', '10:40 AM', '10:45 AM',\n",
        "        '10:50 AM', '10:55 AM', '11:00 AM', '11:05 AM', '11:10 AM',\n",
        "        #Peter Harris\n",
        "        '9:50 AM', '9:55 AM', '10:00 AM', '10:05 AM', '10:10 AM',\n",
        "        '10:15 AM', '10:20 AM', '10:25 AM', '10:30 AM', '10:35 AM',\n",
        "        '10:40 AM', '10:45 AM', '10:50 AM', '10:55 AM',\n",
        "         #Karen Heights\n",
        "        '10:05 AM', '10:10 AM', '10:15 AM', '10:20 AM', '10:25 AM',\n",
        "        '10:30 AM', '10:35 AM', '10:40 AM', '10:45 AM', '10:50 AM',\n",
        "        '10:55 AM', '11:00 AM', '11:05 AM', '11:10 AM', '11:15 AM',\n",
        "        #Steve Allington\n",
        "        '10:15 AM', '10:20 AM', '10:25 AM', '10:30 AM', '10:35 AM',\n",
        "        '10:40 AM', '10:45 AM', '10:50 AM', '10:55 AM', '11:00 AM',\n",
        "        '11:05 AM', '11:10 AM', '11:15 AM', '11:20 AM', '11:25 AM',\n",
        "        #Ines Mallus\n",
        "        '10:25 AM', '10:30 AM', '10:35 AM', '10:40 AM', '10:45 AM',\n",
        "        '10:50 AM', '10:55 AM', '11:00 AM', '11:05 AM', '11:10 AM',\n",
        "        '11:15 AM', '11:20 AM', '11:25 AM',\n",
        "        #John Atticks\n",
        "        '10:35 AM', '10:40 AM', '10:45 AM', '10:50 AM', '10:55 AM',\n",
        "        '11:00 AM', '11:05 AM', '11:10 AM', '11:15 AM', '11:20 AM',\n",
        "        '11:25 AM', '11:30 AM', '11:35 AM', '11:40 AM',\n",
        "        #Lisa Mayer\n",
        "        '10:45 AM', '10:50 AM', '10:55 AM', '11:00 AM', '11:05 AM',\n",
        "        '11:10 AM', '11:15 AM', '11:20 AM', '11:25 AM', '11:30 AM',\n",
        "        '11:35 AM', '11:40 AM', '11:45 AM', '11:50 AM', '11:55 AM',\n",
        "        #Robert Schopf\n",
        "        '9:55 AM', '10:00 AM', '10:05 AM', '10:10 AM', '10:15 AM',\n",
        "        '10:20 AM', '10:25 AM', '10:30 AM', '10:35 AM', '10:40 AM',\n",
        "        '10:45 AM', '10:50 AM', '10:55 AM', '11:00 AM',\n",
        "        #Anja Schmoekel\n",
        "        '10:10 AM', '10:15 AM', '10:20 AM', '10:25 AM', '10:30 AM',\n",
        "        '10:35 AM', '10:40 AM', '10:45 AM', '10:50 AM', '10:55 AM',\n",
        "        '11:00 AM', '11:05 AM', '11:35 AM',\n",
        "        #Sebastian Bangemann\n",
        "        '10:20 AM', '10:25 AM', '10:30 AM', '10:35 AM', '10:40 AM',\n",
        "        '10:45 AM', '10:50 AM', '10:55 AM', '11:00 AM', '11:05 AM',\n",
        "        '11:10 AM', '11:15 AM', '11:35 AM',\n",
        "        #Vida Abbasi\n",
        "        '10:30 AM', '10:35 AM', '10:40 AM', '10:45 AM', '10:50 AM',\n",
        "        '10:55 AM', '11:00 AM', '11:05 AM', '11:10 AM', '11:15 AM',\n",
        "        '11:20 AM', '11:25 AM', '11:35 AM',\n",
        "        #Odilon Patrick Ogue\n",
        "        '10:40 AM', '10:45 AM', '10:50 AM', '10:55 AM', '11:00 AM',\n",
        "        '11:05 AM', '11:10 AM', '11:15 AM', '11:20 AM', '11:25 AM',\n",
        "        '11:30 AM', '11:35 AM', '11:35 AM',\n",
        "        #Snezana Kostic\n",
        "        '10:50 AM', '10:55 AM', '11:00 AM', '11:05 AM', '11:10 AM',\n",
        "        '11:15 AM', '11:20 AM', '11:25 AM', '11:30 AM', '11:35 AM',\n",
        "        '11:20 AM', '11:25 AM', '11:35 AM',\n",
        "        #Marianna Gokova\n",
        "        '10:00 AM', '10:05 AM', '10:10 AM', '10:15 AM', '10:20 AM', '10:25 AM', '10:30 AM',\n",
        "        '10:45 AM', '11:00 AM', '11:15 AM', '11:25 AM', '11:30 AM', '11:35 AM',\n",
        "        #Yana Yelnikova\n",
        "        '10:10 AM', '10:15 AM', '10:20 AM', '10:25 AM', '10:30 AM', '10:35 AM', '10:40 AM',\n",
        "        '10:45 AM', '10:50 AM', '10:55 AM', '11:00 AM', '11:15 PM', '11:35 PM',\n",
        "        #Serhii Sotnichenko\n",
        "        '11:20 AM', '11:25 AM', '11:30 AM', '11:35 AM', '11:40 AM', '11:45 AM', '11:50 AM',\n",
        "        '11:55 AM', '12:00 PM', '12:05 PM', '12:10 PM', '12:15 PM', '12:20 PM',\n",
        "        # Mindo Siagian Kern\n",
        "        '10:30 AM', '10:35 AM', '10:40 AM', '10:45 AM', '10:50 AM', '10:55 AM', '11:00 AM',\n",
        "        '11:05 AM', '11:10 AM', '11:15 AM', '11:20 AM', '11:25 AM', '11:30 AM',\n",
        "        # Thomas Koehler\n",
        "        '10:40 AM', '10:45 AM', '10:50 AM', '10:55 AM', '11:00 AM', '11:05 AM', '11:10 AM',\n",
        "        '11:15 AM', '11:20 AM', '11:25 AM', '11:30 AM', '11:35 AM', '11:40 AM',\n",
        "        # Lars Petschke\n",
        "        '10:50 AM', '10:55 AM', '11:00 AM', '11:05 AM', '11:10 AM', '11:15 AM', '11:20 AM',\n",
        "        '11:25 AM', '11:30 AM', '11:35 AM', '11:40 AM', '11:45 AM', '11:50 AM',\n",
        "        # Mahdi Aminmoghaddasi\n",
        "        '11:00 AM', '11:05 AM', '11:10 AM', '11:15 AM', '11:20 AM', '11:25 AM', '11:30 AM',\n",
        "        '11:35 AM', '11:40 AM', '11:45 AM', '11:50 AM', '11:55 AM', '12:00 PM',\n",
        "        # Martin Svitek\n",
        "        '11:10 AM', '11:15 AM', '11:20 AM', '11:25 AM', '11:30 AM', '11:35 AM', '11:40 AM',\n",
        "        '11:45 AM', '11:50 AM', '11:55 AM', '12:00 PM', '12:05 PM', '12:10 PM',\n",
        "        # Konstantin Milonas\n",
        "        '11:20 AM', '11:25 AM', '11:30 AM', '11:35 AM', '11:40 AM', '11:45 AM', '11:50 AM',\n",
        "        '11:55 AM', '12:00 PM', '12:05 PM', '12:10 PM', '12:15 PM', '12:20 PM',\n",
        "        # Roksena Ilieva\n",
        "        '11:30 AM', '11:35 AM', '11:40 AM', '11:45 AM', '11:50 AM', '11:55 AM', '12:00 PM',\n",
        "        '12:05 PM', '12:10 PM', '12:15 PM', '12:20 PM', '12:25 PM', '12:30 PM'\n",
        "    ]})\n",
        "\n",
        "gift_shop_purchases = pd.DataFrame(\n",
        "  [\n",
        "    {'visitor_id': 'V001', 'purchase_time': '09:40 AM', 'Souvenir_Artikel': 'Umhaengetasche'},\n",
        "    {'visitor_id': 'V002', 'purchase_time': '10:00 AM', 'Souvenir_Artikel': 'Schlüsselanhänger'},\n",
        "    {'visitor_id': 'V002', 'purchase_time': '10:55 AM', 'Souvenir_Artikel': 'Magnet'},\n",
        "    {'visitor_id': 'V003', 'purchase_time': '10:25 AM', 'Souvenir_Artikel': 'Schlüsselanhänger'},\n",
        "    {'visitor_id': 'V004', 'purchase_time': '10:00 AM', 'Souvenir_Artikel': 'Postkarte'},\n",
        "    {'visitor_id': 'V005', 'purchase_time': '10:30 AM', 'Souvenir_Artikel': 'Schlüsselanhänger'},\n",
        "    {'visitor_id': 'V006', 'purchase_time': '10:45 AM', 'Souvenir_Artikel': 'Notizbuch'},\n",
        "    {'visitor_id': 'V007', 'purchase_time': '10:40 AM', 'Souvenir_Artikel': 'Buch'},\n",
        "    {'visitor_id': 'V008', 'purchase_time': '11:05 AM', 'Souvenir_Artikel': 'Postkarte'},\n",
        "    {'visitor_id': 'V009', 'purchase_time': '11:10 AM', 'Souvenir_Artikel': 'Buch'},\n",
        "    {'visitor_id': 'V010', 'purchase_time': '10:45 AM', 'Souvenir_Artikel': 'T-Shirt'},\n",
        "    {'visitor_id': 'V011', 'purchase_time': '10:25 AM', 'Souvenir_Artikel': 'Postkarte'},\n",
        "    {'visitor_id': 'V012', 'purchase_time': '10:45 AM', 'Souvenir_Artikel': 'Schlüsselanhänger'},\n",
        "    {'visitor_id': 'V013', 'purchase_time': '10:45 AM', 'Souvenir_Artikel': 'Postkarte'},\n",
        "    {'visitor_id': 'V014', 'purchase_time': '11:05 AM', 'Souvenir_Artikel': 'Tasse'},\n",
        "    {'visitor_id': 'V015', 'purchase_time': '11:05 AM', 'Souvenir_Artikel': 'Postkarte'},\n",
        "    {'visitor_id': 'V016', 'purchase_time': '10:25 AM', 'Souvenir_Artikel': 'Buch'},\n",
        "    {'visitor_id': 'V017', 'purchase_time': '10:35 AM', 'Souvenir_Artikel': 'Postkarte'},\n",
        "    {'visitor_id': 'V018', 'purchase_time': '11:45 AM', 'Souvenir_Artikel': 'Schlüsselanhänger'},\n",
        "    {'visitor_id': 'V019', 'purchase_time': '10:55 AM', 'Souvenir_Artikel': 'Schlüsselanhänger'},\n",
        "    {'visitor_id': 'V020', 'purchase_time': '11:05 AM', 'Souvenir_Artikel': 'Tasse'},\n",
        "    {'visitor_id': 'V021', 'purchase_time': '11:15 AM', 'Souvenir_Artikel': 'Postkarte'},\n",
        "    {'visitor_id': 'V022', 'purchase_time': '11:25 AM', 'Souvenir_Artikel': 'Buch'},\n",
        "    {'visitor_id': 'V023', 'purchase_time': '11:35 AM', 'Souvenir_Artikel': 'T-Shirt'},\n",
        "    {'visitor_id': 'V024', 'purchase_time': '11:45 AM', 'Souvenir_Artikel': 'Buch'},\n",
        "    {'visitor_id': 'V025', 'purchase_time': '11:55 AM', 'Souvenir_Artikel': 'Postkarte'}\n",
        "])\n",
        "\n",
        "\n",
        "employees = pd.DataFrame([\n",
        "    {'employee_id': 'E001', 'employee_name': 'Klaas Heufer-Umlauf', 'Position': 'Security Guard'},\n",
        "    {'employee_id': 'E002', 'employee_name': 'Micky Beisenherz', 'Position': 'Security Guard'},\n",
        "    {'employee_id': 'E003', 'employee_name': 'Steven Gaetjen', 'Position': 'Security Guard'},\n",
        "    {'employee_id': 'E004', 'employee_name': 'Joko Winterscheidt', 'Position': 'Security Guard'},\n",
        "    {'employee_id': 'E005', 'employee_name': 'Chris Martin', 'Position': 'Security Guard'},\n",
        "    {'employee_id': 'E006', 'employee_name': 'Steffen Hennssler', 'Position': 'Sales Souvenir Shop'},\n",
        "    {'employee_id': 'E007', 'employee_name': 'Sandra Maischberger', 'Position': 'Ticket Sales'},\n",
        "    {'employee_id': 'E008', 'employee_name': 'Felix Lobrecht', 'Position': 'Electrician'}\n",
        "])\n",
        "\n",
        "\n",
        "employee_shifts = pd.DataFrame({\n",
        "    'employee_id': ['E001'] * 5 + ['E002'] * 5 + ['E003'] * 5 + ['E004'] * 5 + ['E005'] * 5 + ['E006'] * 5 + ['E007'] * 5+ ['E008'] * 5,\n",
        "    'shift_start': [\n",
        "        '09:00 AM', '10:00 AM', '11:00 AM', '01:00 PM', '02:00 PM']*8,\n",
        "    'shift_end': [\n",
        "        '10:00 AM', '11:00 AM', '01:00 PM', '02:00 PM', '03:00 PM']*8,\n",
        "    'room_assigned': [\n",
        "        'Gift Shop', 'Main Hall', 'Entrance/Exit Hall', 'Main Exhibit',  'Special Exhibit', # Klaas Heufer-Umlauf\n",
        "        'Main Hall', 'Main Exhibit', 'Gift Shop', 'Special Exhibit', 'Entrance/Exit Hall', # Micky Beisenherz\n",
        "        'Main Exhibit', 'Main Hall', 'Special Exhibit', 'Gift Shop', 'Main Exhibit', # Steven Gaetjen\n",
        "        'Special Exhibit', 'Main Exhibit', 'Gift Shop', 'Main Hall', 'Entrance/Exit Hall',  # Joko Winterscheidt\n",
        "        'Main Hall', 'Main Exhibit', 'Entrance/Exit Hall', 'Main Exhibit', 'Gift Shop', # Chris Martin\n",
        "        'Gift Shop', 'Gift Shop', 'Gift Shop', 'Gift Shop', 'Gift Shop', # Steffen Hennssler'\n",
        "        'Ticket Office','Ticket Office','Ticket Office','Ticket Office','Ticket Office', #Sandra Maischberger'\n",
        "        'Regel- und Elektroverteilungsraum','Regel- und Elektroverteilungsraum','Regel- und Elektroverteilungsraum','Regel- und Elektroverteilungsraum','Regel- und Elektroverteilungsraum', #Felix Lobrecht'\n",
        "        ]})\n",
        "\n",
        "employee_logs = pd.DataFrame({\n",
        "    'employee_id': ['E001'] * 8 + ['E002'] * 12 + ['E003'] * 18 + ['E004'] * 9 + ['E005'] * 7 + ['E006'] * 6 + ['E007'] * 6 + ['E008'] * 10,\n",
        "    'building_section': [\n",
        "        #Klaas Heufer-Umlauf\n",
        "        'Staff Entrance/Exit', 'Staff Dressing Room','Gift Shop','Main Hall','Staff Restroom', 'Entrance/Exit Hall','Staff Dressing Room','Staff Entrance/Exit',\n",
        "        #Micky Beisenherz\n",
        "        'Staff Entrance/Exit', 'Staff Dressing Room','Main Hall', 'Main Exhibit', 'Gift Shop','Main Hall','Staff Restroom','Main Hall','Gift Shop','Entrance/Exit Hall','Staff Dressing Room','Staff Entrance/Exit',\n",
        "        # Steven Gaetjen\n",
        "         'Staff Entrance/Exit', 'Staff Dressing Room', 'Main Hall', 'Main Exhibit', 'Main Hall','Regel- und Elektroverteilungsraum','Main Hall','Special Exhibit','Main Hall','Restroom','Main Hall','Staff Entrance/Exit','Main Hall','Special Exhibit', 'Main Hall','Entrance/Exit Hall','Staff Dressing Room','Staff Entrance/Exit',\n",
        "        # Joko Winterscheidt\n",
        "         'Staff Entrance/Exit', 'Staff Dressing Room', 'Main Hall','Special Exhibit','Main Exhibit', 'Gift Shop','Entrance/Exit Hall','Staff Dressing Room','Staff Entrance/Exit',\n",
        "        # Chris Martin\n",
        "        'Staff Entrance/Exit', 'Staff Dressing Room','Main Hall', 'Main Exhibit', 'Entrance/Exit Hall','Staff Dressing Room','Staff Entrance/Exit',\n",
        "        # Steffen Hennssler'\n",
        "        'Staff Entrance/Exit', 'Staff Dressing Room', 'Gift Shop','Entrance/Exit Hall','Staff Dressing Room','Staff Entrance/Exit',\n",
        "        #Sandra Maischberger'\n",
        "        'Staff Entrance/Exit', 'Staff Dressing Room', 'Ticket Office','Entrance/Exit Hall','Staff Dressing Room','Staff Entrance/Exit',\n",
        "        #Felix Lobrecht'\n",
        "        'Staff Entrance/Exit', 'Staff Dressing Room','Regel- und Elektroverteilungsraum', 'Main Hall', 'Staff Restroom','Regel- und Elektroverteilungsraum','Entrance/Exit Hall','Regel- und Elektroverteilungsraum','Staff Dressing Room','Staff Entrance/Exit',\n",
        "    ],\n",
        "    'time_entered': [\n",
        "        #Klaas Heufer-Umlauf\n",
        "         '08:30 AM', '08:31 AM','08:50 AM','10:00 AM','10:55 AM', '11:00 AM','03:30 PM', '03:40 PM',\n",
        "        #Micky Beisenherz\n",
        "        '08:30 AM', '08:31 AM','08:50 AM', '10:00 AM', '11:00 AM','11:15 AM','11:17 AM','11:20 AM','11:25 AM','11:35 AM','03:30 PM', '03:40 PM',\n",
        "        # Steven Gaetjen\n",
        "        '08:30 AM', '08:31 AM', '08:50 AM', '08:51 AM', '10:40 AM','10:45 AM','10:50 AM','11:00 AM','11:14 AM','11:15 AM','11:25 AM','11:27 AM','11:30 AM','11:31 AM','11:33 AM','11:35 AM','03:30 PM', '03:40 PM',\n",
        "        # Joko Winterscheidt\n",
        "        '08:30 AM', '08:31 AM', '08:50 AM', '08:51 AM','10:00 AM', '11:00 AM', '11:35 AM','03:30 PM', '03:40 PM',\n",
        "        # Chris Martin\n",
        "         '08:30 AM', '08:31 AM', '08:50 AM','10:00 AM', '11:00 AM','03:30 PM', '03:40 PM',\n",
        "        # Steffen Hennssler'\n",
        "        '08:30 AM', '08:31 AM', '08:50 AM', '11:35 AM','03:30 PM', '03:40 PM',\n",
        "        #Sandra Maischberger'\n",
        "         '08:30 AM', '08:31 AM', '08:50 AM', '11:35 AM','03:30 PM', '03:40 PM',\n",
        "        #Felix Lobrecht'\n",
        "        '08:00 AM', '08:02 AM', '08:10 AM','10:39 AM', '10:41 AM', '10:53 AM', '11:59 AM', '12:30 PM','03:30 PM', '03:40 PM'\n",
        "    ]})\n",
        "\n",
        "witness_statements = pd.DataFrame({'visitor_id': [\n",
        "  'V001',\n",
        "  'V006',\n",
        "  'V007',\n",
        "  'V009',\n",
        "  'V013',\n",
        "  'V014',\n",
        "  'V015',\n",
        "  'V019',\n",
        "  'V021',\n",
        "  'V022'],\n",
        " 'aussage_script': [\n",
        "  'Ich sah jemanden schnell aus dem Notausgang laufen.',\n",
        "  'Eine Person im grauen Mantel schien nervös zu sein.',\n",
        "  'Der Museumsmitarbeiter war anfangs am Eingang, verschwand dann.',\n",
        "  'Die Sicherheitskameras hatten rote Kontrollleuchten.',\n",
        "  'Ich habe ein Klirren aus dem hinteren Teil der Ausstellung gehört.',\n",
        "  'Jemand hat mit einem Museumsmitarbeiter in einem anderen Bereich des Musuems heftig diskutiert.',\n",
        "  'Eine Fluchttür war offen, obwohl sie normalerweise geschlossen ist.',\n",
        "  'Ein Kind weinte, weil es seine in der Dunkelheit nicht finden konnte.',\n",
        "  'Ein Besucher versuchte ein Objekt ohne Erlaubnis zu berühren.',\n",
        "  'Ich sah eine Person mit einer großen Tasche aus dem Bereich kommen, wo die Ming-Vase stand.']})\n",
        "\n",
        "# Time_logs in datetime konvertieren\n",
        "visitor_logs['time_entered'] = pd.to_datetime('2025-08-01 ' + visitor_logs['time_entered'], format='%Y-%m-%d %I:%M %p')\n",
        "employee_shifts['shift_start'] = pd.to_datetime('2025-08-01 ' + employee_shifts['shift_start'], format='%Y-%m-%d %I:%M %p')\n",
        "employee_shifts['shift_end'] = pd.to_datetime('2025-08-01 ' + employee_shifts['shift_end'], format='%Y-%m-%d %I:%M %p')\n",
        "employee_logs['time_entered'] = pd.to_datetime('2025-08-01 ' + employee_logs['time_entered'], format='%Y-%m-%d %I:%M %p')\n",
        "\n",
        "\n",
        "# DB Tables in SQLite\n",
        "visitors.to_sql('visitors', conn, index=False, if_exists='replace')\n",
        "visitor_logs.to_sql('visitor_logs', conn, index=False, if_exists='replace')\n",
        "gift_shop_purchases.to_sql('gift_shop_purchases', conn, index=False, if_exists='replace')\n",
        "employee_shifts.to_sql('employee_shifts', conn, index=False, if_exists='replace')\n",
        "employee_logs.to_sql('employee_logs', conn, index=False, if_exists='replace')\n",
        "employees.to_sql('employees', conn, index=False, if_exists='replace')\n",
        "witness_statements.to_sql('witness_statements', conn, index=False, if_exists='replace')"
      ]
    },
    {
      "cell_type": "markdown",
      "source": [
        "## 🧩 Übersicht Tabellen\n",
        "\n",
        "| **Tabelle**            | **Beschreibung**                                                                                                          |\n",
        "|-----------------------|----------------------------------------------------------------------------------------------------------------------------|\n",
        "| **visitors**           | Enthält Informationen über die Besucher des Museums, einschließlich der Besucher-ID (`visitor_id`), ihres Namens und des Ticket-Typs, z. B. mit freien Souvenirs. |\n",
        "| **visitor_logs**       | Zeichnet die Bewegungen der Besucher innerhalb des Museums auf, einschließlich der betretenen Bereiche (`building_section`) und Zeitstempel (`time_entered`).    |\n",
        "| **gift_shop_purchases**| Dokumentiert Käufe im Souvenirshop, einschließlich der Besucher-ID (`visitor_id`), der gekauften Artikel (`Souvenir_Artikel`) und der Kaufzeit (`purchase_time`).                                |\n",
        "| **employees**          | Beinhaltet Informationen über die Mitarbeiter, wie die Mitarbeiter-ID (`employee_id`), den Namen und die zugewiesene Position im Museum.                         |\n",
        "| **employee_shifts**    | Verzeichnet die Arbeitszeiten der Mitarbeiter, einschließlich Beginn (`shift_start`), Ende (`shift_end`) und der zugewiesenen Räume (`room_assigned`).            |\n",
        "| **employee_logs**      | Protokolliert die Bewegungen der Mitarbeiter innerhalb des Museums, mit Einträgen zu den betretenen Bereichen und den Zeitpunkten (`time_entered`).              |\n",
        "| **witness_statements** | Enthält Aussagen von Zeugen im Zusammenhang mit Vorfällen im Museum. Jede Aussage ist einer bestimmten Besucher-ID (`visitor_id`) zugeordnet.   "
      ],
      "metadata": {
        "id": "O7bx43DqM6Cr"
      },
      "id": "O7bx43DqM6Cr"
    },
    {
      "cell_type": "markdown",
      "id": "902ebaaf",
      "metadata": {
        "id": "902ebaaf"
      },
      "source": [
        "\n",
        "## 🔍 1. Wer war zur Tatzeit am Tatort?\n"
      ]
    },
    {
      "cell_type": "markdown",
      "source": [
        "###SQL Query ✍️"
      ],
      "metadata": {
        "id": "JG0Z-Xr7pkjy"
      },
      "id": "JG0Z-Xr7pkjy"
    },
    {
      "cell_type": "code",
      "source": [
        "query_1 = '''\n",
        "\n",
        "--👉 Dein SQL Query hier\n",
        "\n",
        "'''\n",
        "result_1 = pd.read_sql_query(query_1, conn)\n",
        "result_1\n"
      ],
      "metadata": {
        "colab": {
          "base_uri": "https://localhost:8080/",
          "height": 365
        },
        "id": "pfDYsFnroycg",
        "outputId": "6fec1de9-c191-4470-ced2-ac76af759fa4"
      },
      "id": "pfDYsFnroycg",
      "execution_count": 7,
      "outputs": [
        {
          "output_type": "error",
          "ename": "TypeError",
          "evalue": "'NoneType' object is not iterable",
          "traceback": [
            "\u001b[0;31m---------------------------------------------------------------------------\u001b[0m",
            "\u001b[0;31mTypeError\u001b[0m                                 Traceback (most recent call last)",
            "\u001b[0;32m<ipython-input-7-97273d3a6f13>\u001b[0m in \u001b[0;36m<cell line: 0>\u001b[0;34m()\u001b[0m\n\u001b[1;32m      4\u001b[0m \u001b[0;34m\u001b[0m\u001b[0m\n\u001b[1;32m      5\u001b[0m '''\n\u001b[0;32m----> 6\u001b[0;31m \u001b[0mresult_1\u001b[0m \u001b[0;34m=\u001b[0m \u001b[0mpd\u001b[0m\u001b[0;34m.\u001b[0m\u001b[0mread_sql_query\u001b[0m\u001b[0;34m(\u001b[0m\u001b[0mquery_1\u001b[0m\u001b[0;34m,\u001b[0m \u001b[0mconn\u001b[0m\u001b[0;34m)\u001b[0m\u001b[0;34m\u001b[0m\u001b[0;34m\u001b[0m\u001b[0m\n\u001b[0m\u001b[1;32m      7\u001b[0m \u001b[0mresult_1\u001b[0m\u001b[0;34m\u001b[0m\u001b[0;34m\u001b[0m\u001b[0m\n",
            "\u001b[0;32m/usr/local/lib/python3.11/dist-packages/pandas/io/sql.py\u001b[0m in \u001b[0;36mread_sql_query\u001b[0;34m(sql, con, index_col, coerce_float, params, parse_dates, chunksize, dtype, dtype_backend)\u001b[0m\n\u001b[1;32m    524\u001b[0m \u001b[0;34m\u001b[0m\u001b[0m\n\u001b[1;32m    525\u001b[0m     \u001b[0;32mwith\u001b[0m \u001b[0mpandasSQL_builder\u001b[0m\u001b[0;34m(\u001b[0m\u001b[0mcon\u001b[0m\u001b[0;34m)\u001b[0m \u001b[0;32mas\u001b[0m \u001b[0mpandas_sql\u001b[0m\u001b[0;34m:\u001b[0m\u001b[0;34m\u001b[0m\u001b[0;34m\u001b[0m\u001b[0m\n\u001b[0;32m--> 526\u001b[0;31m         return pandas_sql.read_query(\n\u001b[0m\u001b[1;32m    527\u001b[0m             \u001b[0msql\u001b[0m\u001b[0;34m,\u001b[0m\u001b[0;34m\u001b[0m\u001b[0;34m\u001b[0m\u001b[0m\n\u001b[1;32m    528\u001b[0m             \u001b[0mindex_col\u001b[0m\u001b[0;34m=\u001b[0m\u001b[0mindex_col\u001b[0m\u001b[0;34m,\u001b[0m\u001b[0;34m\u001b[0m\u001b[0;34m\u001b[0m\u001b[0m\n",
            "\u001b[0;32m/usr/local/lib/python3.11/dist-packages/pandas/io/sql.py\u001b[0m in \u001b[0;36mread_query\u001b[0;34m(self, sql, index_col, coerce_float, parse_dates, params, chunksize, dtype, dtype_backend)\u001b[0m\n\u001b[1;32m   2737\u001b[0m     ) -> DataFrame | Iterator[DataFrame]:\n\u001b[1;32m   2738\u001b[0m         \u001b[0mcursor\u001b[0m \u001b[0;34m=\u001b[0m \u001b[0mself\u001b[0m\u001b[0;34m.\u001b[0m\u001b[0mexecute\u001b[0m\u001b[0;34m(\u001b[0m\u001b[0msql\u001b[0m\u001b[0;34m,\u001b[0m \u001b[0mparams\u001b[0m\u001b[0;34m)\u001b[0m\u001b[0;34m\u001b[0m\u001b[0;34m\u001b[0m\u001b[0m\n\u001b[0;32m-> 2739\u001b[0;31m         \u001b[0mcolumns\u001b[0m \u001b[0;34m=\u001b[0m \u001b[0;34m[\u001b[0m\u001b[0mcol_desc\u001b[0m\u001b[0;34m[\u001b[0m\u001b[0;36m0\u001b[0m\u001b[0;34m]\u001b[0m \u001b[0;32mfor\u001b[0m \u001b[0mcol_desc\u001b[0m \u001b[0;32min\u001b[0m \u001b[0mcursor\u001b[0m\u001b[0;34m.\u001b[0m\u001b[0mdescription\u001b[0m\u001b[0;34m]\u001b[0m\u001b[0;34m\u001b[0m\u001b[0;34m\u001b[0m\u001b[0m\n\u001b[0m\u001b[1;32m   2740\u001b[0m \u001b[0;34m\u001b[0m\u001b[0m\n\u001b[1;32m   2741\u001b[0m         \u001b[0;32mif\u001b[0m \u001b[0mchunksize\u001b[0m \u001b[0;32mis\u001b[0m \u001b[0;32mnot\u001b[0m \u001b[0;32mNone\u001b[0m\u001b[0;34m:\u001b[0m\u001b[0;34m\u001b[0m\u001b[0;34m\u001b[0m\u001b[0m\n",
            "\u001b[0;31mTypeError\u001b[0m: 'NoneType' object is not iterable"
          ]
        }
      ]
    },
    {
      "cell_type": "markdown",
      "source": [
        "###Python Code 🐍"
      ],
      "metadata": {
        "id": "FXbcpYejpzPy"
      },
      "id": "FXbcpYejpzPy"
    },
    {
      "cell_type": "markdown",
      "source": [],
      "metadata": {
        "id": "cmlgrM1yqND3"
      },
      "id": "cmlgrM1yqND3"
    },
    {
      "cell_type": "code",
      "source": [
        "#Dein Python Code hier 🐍\n"
      ],
      "metadata": {
        "id": "PYWVye5OqEVz"
      },
      "id": "PYWVye5OqEVz",
      "execution_count": null,
      "outputs": []
    },
    {
      "cell_type": "markdown",
      "source": [
        "###⚠️ Hinweis (bitte nur ausklappen, wenn nötig!)"
      ],
      "metadata": {
        "id": "eKEjjaEsqMbP"
      },
      "id": "eKEjjaEsqMbP"
    },
    {
      "cell_type": "markdown",
      "source": [
        "🔍 Erster Hinweis:\n",
        "> Nicht jeder Besucher oder Besucherin war zur Tatzeit in der Nähe der Ming-Vase. Finde heraus, wer sich zwischen 11:19 und 11:30 Uhr im Sonderausstellungsbereich (Special Exhibit) aufgehalten hat. 🕵️‍♂️👀\n",
        "\n"
      ],
      "metadata": {
        "id": "rndLI-vFrN08"
      },
      "id": "rndLI-vFrN08"
    },
    {
      "cell_type": "markdown",
      "metadata": {
        "id": "2KZv02AQsqQ3"
      },
      "source": [
        "\n",
        "## 2. 👣 Verfolgen wir die Spuren und Aussagen der verdächtigen Personen\n"
      ],
      "id": "2KZv02AQsqQ3"
    },
    {
      "cell_type": "markdown",
      "source": [
        "###SQL Query ✍️"
      ],
      "metadata": {
        "id": "2bqCfKV3sqQ-"
      },
      "id": "2bqCfKV3sqQ-"
    },
    {
      "cell_type": "code",
      "source": [
        "query_2 = '''\n",
        "\n",
        "--👉 Dein SQL Query hier\n",
        "\n",
        "'''\n",
        "result_2 = pd.read_sql_query(query_2, conn)\n",
        "result_2\n"
      ],
      "metadata": {
        "colab": {
          "base_uri": "https://localhost:8080/",
          "height": 365
        },
        "outputId": "8acb8c27-59c6-49e2-9602-7cee1a7f33ae",
        "id": "wBRVgxiXsqQ-"
      },
      "execution_count": 10,
      "outputs": [
        {
          "output_type": "error",
          "ename": "TypeError",
          "evalue": "'NoneType' object is not iterable",
          "traceback": [
            "\u001b[0;31m---------------------------------------------------------------------------\u001b[0m",
            "\u001b[0;31mTypeError\u001b[0m                                 Traceback (most recent call last)",
            "\u001b[0;32m<ipython-input-10-56763752c02b>\u001b[0m in \u001b[0;36m<cell line: 0>\u001b[0;34m()\u001b[0m\n\u001b[1;32m      4\u001b[0m \u001b[0;34m\u001b[0m\u001b[0m\n\u001b[1;32m      5\u001b[0m '''\n\u001b[0;32m----> 6\u001b[0;31m \u001b[0mresult_2\u001b[0m \u001b[0;34m=\u001b[0m \u001b[0mpd\u001b[0m\u001b[0;34m.\u001b[0m\u001b[0mread_sql_query\u001b[0m\u001b[0;34m(\u001b[0m\u001b[0mquery_2\u001b[0m\u001b[0;34m,\u001b[0m \u001b[0mconn\u001b[0m\u001b[0;34m)\u001b[0m\u001b[0;34m\u001b[0m\u001b[0;34m\u001b[0m\u001b[0m\n\u001b[0m\u001b[1;32m      7\u001b[0m \u001b[0mresult_2\u001b[0m\u001b[0;34m\u001b[0m\u001b[0;34m\u001b[0m\u001b[0m\n",
            "\u001b[0;32m/usr/local/lib/python3.11/dist-packages/pandas/io/sql.py\u001b[0m in \u001b[0;36mread_sql_query\u001b[0;34m(sql, con, index_col, coerce_float, params, parse_dates, chunksize, dtype, dtype_backend)\u001b[0m\n\u001b[1;32m    524\u001b[0m \u001b[0;34m\u001b[0m\u001b[0m\n\u001b[1;32m    525\u001b[0m     \u001b[0;32mwith\u001b[0m \u001b[0mpandasSQL_builder\u001b[0m\u001b[0;34m(\u001b[0m\u001b[0mcon\u001b[0m\u001b[0;34m)\u001b[0m \u001b[0;32mas\u001b[0m \u001b[0mpandas_sql\u001b[0m\u001b[0;34m:\u001b[0m\u001b[0;34m\u001b[0m\u001b[0;34m\u001b[0m\u001b[0m\n\u001b[0;32m--> 526\u001b[0;31m         return pandas_sql.read_query(\n\u001b[0m\u001b[1;32m    527\u001b[0m             \u001b[0msql\u001b[0m\u001b[0;34m,\u001b[0m\u001b[0;34m\u001b[0m\u001b[0;34m\u001b[0m\u001b[0m\n\u001b[1;32m    528\u001b[0m             \u001b[0mindex_col\u001b[0m\u001b[0;34m=\u001b[0m\u001b[0mindex_col\u001b[0m\u001b[0;34m,\u001b[0m\u001b[0;34m\u001b[0m\u001b[0;34m\u001b[0m\u001b[0m\n",
            "\u001b[0;32m/usr/local/lib/python3.11/dist-packages/pandas/io/sql.py\u001b[0m in \u001b[0;36mread_query\u001b[0;34m(self, sql, index_col, coerce_float, parse_dates, params, chunksize, dtype, dtype_backend)\u001b[0m\n\u001b[1;32m   2737\u001b[0m     ) -> DataFrame | Iterator[DataFrame]:\n\u001b[1;32m   2738\u001b[0m         \u001b[0mcursor\u001b[0m \u001b[0;34m=\u001b[0m \u001b[0mself\u001b[0m\u001b[0;34m.\u001b[0m\u001b[0mexecute\u001b[0m\u001b[0;34m(\u001b[0m\u001b[0msql\u001b[0m\u001b[0;34m,\u001b[0m \u001b[0mparams\u001b[0m\u001b[0;34m)\u001b[0m\u001b[0;34m\u001b[0m\u001b[0;34m\u001b[0m\u001b[0m\n\u001b[0;32m-> 2739\u001b[0;31m         \u001b[0mcolumns\u001b[0m \u001b[0;34m=\u001b[0m \u001b[0;34m[\u001b[0m\u001b[0mcol_desc\u001b[0m\u001b[0;34m[\u001b[0m\u001b[0;36m0\u001b[0m\u001b[0;34m]\u001b[0m \u001b[0;32mfor\u001b[0m \u001b[0mcol_desc\u001b[0m \u001b[0;32min\u001b[0m \u001b[0mcursor\u001b[0m\u001b[0;34m.\u001b[0m\u001b[0mdescription\u001b[0m\u001b[0;34m]\u001b[0m\u001b[0;34m\u001b[0m\u001b[0;34m\u001b[0m\u001b[0m\n\u001b[0m\u001b[1;32m   2740\u001b[0m \u001b[0;34m\u001b[0m\u001b[0m\n\u001b[1;32m   2741\u001b[0m         \u001b[0;32mif\u001b[0m \u001b[0mchunksize\u001b[0m \u001b[0;32mis\u001b[0m \u001b[0;32mnot\u001b[0m \u001b[0;32mNone\u001b[0m\u001b[0;34m:\u001b[0m\u001b[0;34m\u001b[0m\u001b[0;34m\u001b[0m\u001b[0m\n",
            "\u001b[0;31mTypeError\u001b[0m: 'NoneType' object is not iterable"
          ]
        }
      ],
      "id": "wBRVgxiXsqQ-"
    },
    {
      "cell_type": "markdown",
      "source": [
        "###Python Code 🐍"
      ],
      "metadata": {
        "id": "156cvGCNsqQ-"
      },
      "id": "156cvGCNsqQ-"
    },
    {
      "cell_type": "markdown",
      "source": [],
      "metadata": {
        "id": "2YRxjhsOsqQ-"
      },
      "id": "2YRxjhsOsqQ-"
    },
    {
      "cell_type": "code",
      "source": [
        "#Dein Python Code hier 🐍\n",
        "\n"
      ],
      "metadata": {
        "id": "mGz89e6RsqQ_"
      },
      "execution_count": 11,
      "outputs": [],
      "id": "mGz89e6RsqQ_"
    },
    {
      "cell_type": "markdown",
      "source": [
        "###⚠️ Hinweis (bitte nur ausklappen, wenn nötig!)"
      ],
      "metadata": {
        "id": "bbqPGrkfsqQ_"
      },
      "id": "bbqPGrkfsqQ_"
    },
    {
      "cell_type": "markdown",
      "source": [
        "🔍 Zweiter Hinweis:\n",
        "> Gut gemacht, Data Detective! Du hast nun mehrere Tatverdächtige identifiziert. Aber der Dieb könnte klug und strategisch vorgegangen sein. 🕵️‍♂️ Überprüfe die Bewegungsmuster der Verdächtigen im Museum. Gibt es Hinweise darauf, dass jemand die Vase geschickt versteckt oder unauffällig transportiert haben könnte? Vielleicht liefern dir Zeugenaussagen oder auffällige Stopps in bestimmten Räumen einen entscheidenden Hinweis. 👀🔑\n",
        "\n"
      ],
      "metadata": {
        "id": "0FcUu-mgsqQ_"
      },
      "id": "0FcUu-mgsqQ_"
    },
    {
      "cell_type": "markdown",
      "metadata": {
        "id": "SB_traoosxTk"
      },
      "source": [
        "\n",
        "## 3. 🕶️ Wie wurde die Vase ungesehen aus dem Ausstellungsbereich transportiert?\n"
      ],
      "id": "SB_traoosxTk"
    },
    {
      "cell_type": "markdown",
      "source": [
        "###SQL Query ✍️"
      ],
      "metadata": {
        "id": "LUkRM8x0sxTk"
      },
      "id": "LUkRM8x0sxTk"
    },
    {
      "cell_type": "code",
      "source": [
        "query_3 = '''\n",
        "\n",
        "--👉 Dein SQL Query hier\n",
        "\n",
        "'''\n",
        "result_3 = pd.read_sql_query(query_3, conn)\n",
        "result_3\n"
      ],
      "metadata": {
        "id": "-w0cHlV9sxTk",
        "colab": {
          "base_uri": "https://localhost:8080/",
          "height": 365
        },
        "outputId": "3aff5104-4bd3-4d8b-b356-73e7a57ff88b"
      },
      "execution_count": 8,
      "outputs": [
        {
          "output_type": "error",
          "ename": "TypeError",
          "evalue": "'NoneType' object is not iterable",
          "traceback": [
            "\u001b[0;31m---------------------------------------------------------------------------\u001b[0m",
            "\u001b[0;31mTypeError\u001b[0m                                 Traceback (most recent call last)",
            "\u001b[0;32m<ipython-input-8-53fc118ca450>\u001b[0m in \u001b[0;36m<cell line: 0>\u001b[0;34m()\u001b[0m\n\u001b[1;32m      4\u001b[0m \u001b[0;34m\u001b[0m\u001b[0m\n\u001b[1;32m      5\u001b[0m '''\n\u001b[0;32m----> 6\u001b[0;31m \u001b[0mresult_3\u001b[0m \u001b[0;34m=\u001b[0m \u001b[0mpd\u001b[0m\u001b[0;34m.\u001b[0m\u001b[0mread_sql_query\u001b[0m\u001b[0;34m(\u001b[0m\u001b[0mquery_3\u001b[0m\u001b[0;34m,\u001b[0m \u001b[0mconn\u001b[0m\u001b[0;34m)\u001b[0m\u001b[0;34m\u001b[0m\u001b[0;34m\u001b[0m\u001b[0m\n\u001b[0m\u001b[1;32m      7\u001b[0m \u001b[0mresult_3\u001b[0m\u001b[0;34m\u001b[0m\u001b[0;34m\u001b[0m\u001b[0m\n",
            "\u001b[0;32m/usr/local/lib/python3.11/dist-packages/pandas/io/sql.py\u001b[0m in \u001b[0;36mread_sql_query\u001b[0;34m(sql, con, index_col, coerce_float, params, parse_dates, chunksize, dtype, dtype_backend)\u001b[0m\n\u001b[1;32m    524\u001b[0m \u001b[0;34m\u001b[0m\u001b[0m\n\u001b[1;32m    525\u001b[0m     \u001b[0;32mwith\u001b[0m \u001b[0mpandasSQL_builder\u001b[0m\u001b[0;34m(\u001b[0m\u001b[0mcon\u001b[0m\u001b[0;34m)\u001b[0m \u001b[0;32mas\u001b[0m \u001b[0mpandas_sql\u001b[0m\u001b[0;34m:\u001b[0m\u001b[0;34m\u001b[0m\u001b[0;34m\u001b[0m\u001b[0m\n\u001b[0;32m--> 526\u001b[0;31m         return pandas_sql.read_query(\n\u001b[0m\u001b[1;32m    527\u001b[0m             \u001b[0msql\u001b[0m\u001b[0;34m,\u001b[0m\u001b[0;34m\u001b[0m\u001b[0;34m\u001b[0m\u001b[0m\n\u001b[1;32m    528\u001b[0m             \u001b[0mindex_col\u001b[0m\u001b[0;34m=\u001b[0m\u001b[0mindex_col\u001b[0m\u001b[0;34m,\u001b[0m\u001b[0;34m\u001b[0m\u001b[0;34m\u001b[0m\u001b[0m\n",
            "\u001b[0;32m/usr/local/lib/python3.11/dist-packages/pandas/io/sql.py\u001b[0m in \u001b[0;36mread_query\u001b[0;34m(self, sql, index_col, coerce_float, parse_dates, params, chunksize, dtype, dtype_backend)\u001b[0m\n\u001b[1;32m   2737\u001b[0m     ) -> DataFrame | Iterator[DataFrame]:\n\u001b[1;32m   2738\u001b[0m         \u001b[0mcursor\u001b[0m \u001b[0;34m=\u001b[0m \u001b[0mself\u001b[0m\u001b[0;34m.\u001b[0m\u001b[0mexecute\u001b[0m\u001b[0;34m(\u001b[0m\u001b[0msql\u001b[0m\u001b[0;34m,\u001b[0m \u001b[0mparams\u001b[0m\u001b[0;34m)\u001b[0m\u001b[0;34m\u001b[0m\u001b[0;34m\u001b[0m\u001b[0m\n\u001b[0;32m-> 2739\u001b[0;31m         \u001b[0mcolumns\u001b[0m \u001b[0;34m=\u001b[0m \u001b[0;34m[\u001b[0m\u001b[0mcol_desc\u001b[0m\u001b[0;34m[\u001b[0m\u001b[0;36m0\u001b[0m\u001b[0;34m]\u001b[0m \u001b[0;32mfor\u001b[0m \u001b[0mcol_desc\u001b[0m \u001b[0;32min\u001b[0m \u001b[0mcursor\u001b[0m\u001b[0;34m.\u001b[0m\u001b[0mdescription\u001b[0m\u001b[0;34m]\u001b[0m\u001b[0;34m\u001b[0m\u001b[0;34m\u001b[0m\u001b[0m\n\u001b[0m\u001b[1;32m   2740\u001b[0m \u001b[0;34m\u001b[0m\u001b[0m\n\u001b[1;32m   2741\u001b[0m         \u001b[0;32mif\u001b[0m \u001b[0mchunksize\u001b[0m \u001b[0;32mis\u001b[0m \u001b[0;32mnot\u001b[0m \u001b[0;32mNone\u001b[0m\u001b[0;34m:\u001b[0m\u001b[0;34m\u001b[0m\u001b[0;34m\u001b[0m\u001b[0m\n",
            "\u001b[0;31mTypeError\u001b[0m: 'NoneType' object is not iterable"
          ]
        }
      ],
      "id": "-w0cHlV9sxTk"
    },
    {
      "cell_type": "markdown",
      "source": [
        "###Python Code 🐍"
      ],
      "metadata": {
        "id": "PF8p7LBisxTk"
      },
      "id": "PF8p7LBisxTk"
    },
    {
      "cell_type": "markdown",
      "source": [],
      "metadata": {
        "id": "Xz9WNAj7sxTk"
      },
      "id": "Xz9WNAj7sxTk"
    },
    {
      "cell_type": "code",
      "source": [
        "#Dein Python Code hier 🐍\n",
        "\n"
      ],
      "metadata": {
        "id": "yKT9QtWXsxTk"
      },
      "execution_count": 9,
      "outputs": [],
      "id": "yKT9QtWXsxTk"
    },
    {
      "cell_type": "markdown",
      "source": [
        "###⚠️ Hinweis (bitte nur ausklappen, wenn nötig!)"
      ],
      "metadata": {
        "id": "Btg03dMMsxTl"
      },
      "id": "Btg03dMMsxTl"
    },
    {
      "cell_type": "markdown",
      "source": [
        "🔍 Dritter Hinweis:\n",
        "> Du bist auf der richtigen Spur! 🚶‍♂️👜 Es besteht der Verdacht, dass der Dieb die Ming-Vase in einer Tasche aus dem Sonderausstellungsbereich geschmuggelt hat. Überprüfe die Verdächtigen daraufhin, ob sie etwas gekauft oder mitgebracht haben, das zum Verstecken der Vase geeignet sein könnte. 🕵️‍♂️\n",
        "\n"
      ],
      "metadata": {
        "id": "B6CYmfPssxTl"
      },
      "id": "B6CYmfPssxTl"
    },
    {
      "cell_type": "markdown",
      "metadata": {
        "id": "LB1g0w-Y-Ej6"
      },
      "source": [
        "\n",
        "## 4. 🏺 Wo wurde die Vase deponiert?\n"
      ],
      "id": "LB1g0w-Y-Ej6"
    },
    {
      "cell_type": "markdown",
      "source": [
        "###SQL Query ✍️"
      ],
      "metadata": {
        "id": "UokpYTAz-Ej7"
      },
      "id": "UokpYTAz-Ej7"
    },
    {
      "cell_type": "code",
      "source": [
        "query_4 = '''\n",
        "\n",
        "--👉 Dein SQL Query hier\n",
        "\n",
        "'''\n",
        "result_4 = pd.read_sql_query(query_4, conn)\n",
        "result_4\n"
      ],
      "metadata": {
        "id": "JCTNJ_FS-Ej7",
        "colab": {
          "base_uri": "https://localhost:8080/",
          "height": 365
        },
        "outputId": "c280b6c0-f0f8-4ee1-f091-94ede5087c1f"
      },
      "execution_count": 12,
      "outputs": [
        {
          "output_type": "error",
          "ename": "TypeError",
          "evalue": "'NoneType' object is not iterable",
          "traceback": [
            "\u001b[0;31m---------------------------------------------------------------------------\u001b[0m",
            "\u001b[0;31mTypeError\u001b[0m                                 Traceback (most recent call last)",
            "\u001b[0;32m<ipython-input-12-52893d562934>\u001b[0m in \u001b[0;36m<cell line: 0>\u001b[0;34m()\u001b[0m\n\u001b[1;32m      4\u001b[0m \u001b[0;34m\u001b[0m\u001b[0m\n\u001b[1;32m      5\u001b[0m '''\n\u001b[0;32m----> 6\u001b[0;31m \u001b[0mresult_4\u001b[0m \u001b[0;34m=\u001b[0m \u001b[0mpd\u001b[0m\u001b[0;34m.\u001b[0m\u001b[0mread_sql_query\u001b[0m\u001b[0;34m(\u001b[0m\u001b[0mquery_4\u001b[0m\u001b[0;34m,\u001b[0m \u001b[0mconn\u001b[0m\u001b[0;34m)\u001b[0m\u001b[0;34m\u001b[0m\u001b[0;34m\u001b[0m\u001b[0m\n\u001b[0m\u001b[1;32m      7\u001b[0m \u001b[0mresult_4\u001b[0m\u001b[0;34m\u001b[0m\u001b[0;34m\u001b[0m\u001b[0m\n",
            "\u001b[0;32m/usr/local/lib/python3.11/dist-packages/pandas/io/sql.py\u001b[0m in \u001b[0;36mread_sql_query\u001b[0;34m(sql, con, index_col, coerce_float, params, parse_dates, chunksize, dtype, dtype_backend)\u001b[0m\n\u001b[1;32m    524\u001b[0m \u001b[0;34m\u001b[0m\u001b[0m\n\u001b[1;32m    525\u001b[0m     \u001b[0;32mwith\u001b[0m \u001b[0mpandasSQL_builder\u001b[0m\u001b[0;34m(\u001b[0m\u001b[0mcon\u001b[0m\u001b[0;34m)\u001b[0m \u001b[0;32mas\u001b[0m \u001b[0mpandas_sql\u001b[0m\u001b[0;34m:\u001b[0m\u001b[0;34m\u001b[0m\u001b[0;34m\u001b[0m\u001b[0m\n\u001b[0;32m--> 526\u001b[0;31m         return pandas_sql.read_query(\n\u001b[0m\u001b[1;32m    527\u001b[0m             \u001b[0msql\u001b[0m\u001b[0;34m,\u001b[0m\u001b[0;34m\u001b[0m\u001b[0;34m\u001b[0m\u001b[0m\n\u001b[1;32m    528\u001b[0m             \u001b[0mindex_col\u001b[0m\u001b[0;34m=\u001b[0m\u001b[0mindex_col\u001b[0m\u001b[0;34m,\u001b[0m\u001b[0;34m\u001b[0m\u001b[0;34m\u001b[0m\u001b[0m\n",
            "\u001b[0;32m/usr/local/lib/python3.11/dist-packages/pandas/io/sql.py\u001b[0m in \u001b[0;36mread_query\u001b[0;34m(self, sql, index_col, coerce_float, parse_dates, params, chunksize, dtype, dtype_backend)\u001b[0m\n\u001b[1;32m   2737\u001b[0m     ) -> DataFrame | Iterator[DataFrame]:\n\u001b[1;32m   2738\u001b[0m         \u001b[0mcursor\u001b[0m \u001b[0;34m=\u001b[0m \u001b[0mself\u001b[0m\u001b[0;34m.\u001b[0m\u001b[0mexecute\u001b[0m\u001b[0;34m(\u001b[0m\u001b[0msql\u001b[0m\u001b[0;34m,\u001b[0m \u001b[0mparams\u001b[0m\u001b[0;34m)\u001b[0m\u001b[0;34m\u001b[0m\u001b[0;34m\u001b[0m\u001b[0m\n\u001b[0;32m-> 2739\u001b[0;31m         \u001b[0mcolumns\u001b[0m \u001b[0;34m=\u001b[0m \u001b[0;34m[\u001b[0m\u001b[0mcol_desc\u001b[0m\u001b[0;34m[\u001b[0m\u001b[0;36m0\u001b[0m\u001b[0;34m]\u001b[0m \u001b[0;32mfor\u001b[0m \u001b[0mcol_desc\u001b[0m \u001b[0;32min\u001b[0m \u001b[0mcursor\u001b[0m\u001b[0;34m.\u001b[0m\u001b[0mdescription\u001b[0m\u001b[0;34m]\u001b[0m\u001b[0;34m\u001b[0m\u001b[0;34m\u001b[0m\u001b[0m\n\u001b[0m\u001b[1;32m   2740\u001b[0m \u001b[0;34m\u001b[0m\u001b[0m\n\u001b[1;32m   2741\u001b[0m         \u001b[0;32mif\u001b[0m \u001b[0mchunksize\u001b[0m \u001b[0;32mis\u001b[0m \u001b[0;32mnot\u001b[0m \u001b[0;32mNone\u001b[0m\u001b[0;34m:\u001b[0m\u001b[0;34m\u001b[0m\u001b[0;34m\u001b[0m\u001b[0m\n",
            "\u001b[0;31mTypeError\u001b[0m: 'NoneType' object is not iterable"
          ]
        }
      ],
      "id": "JCTNJ_FS-Ej7"
    },
    {
      "cell_type": "markdown",
      "source": [
        "###Python Code 🐍"
      ],
      "metadata": {
        "id": "J4z2fXLe-Ej7"
      },
      "id": "J4z2fXLe-Ej7"
    },
    {
      "cell_type": "markdown",
      "source": [],
      "metadata": {
        "id": "eUvvjarA-Ej7"
      },
      "id": "eUvvjarA-Ej7"
    },
    {
      "cell_type": "code",
      "source": [
        "#Dein Python Code hier 🐍\n"
      ],
      "metadata": {
        "id": "2Hj5b8ij-Ej7"
      },
      "execution_count": 14,
      "outputs": [],
      "id": "2Hj5b8ij-Ej7"
    },
    {
      "cell_type": "markdown",
      "source": [
        "###⚠️ Hinweis (bitte nur ausklappen, wenn nötig!)"
      ],
      "metadata": {
        "id": "AxYc2H5h-Ej7"
      },
      "id": "AxYc2H5h-Ej7"
    },
    {
      "cell_type": "markdown",
      "source": [
        "🔍 Vierter Hinweis::\n",
        ">Sehr gut, du hast einen Hauptverdächtigen im Blick! 👀 Aber wohin ist er nach dem Diebstahl gegangen? Verfolge die Bewegungen des Verdächtigen im Museum. 🏛️ Gibt es Hinweise darauf, dass er die Vase in einem weniger überwachten Bereich oder einem Raum deponiert haben könnte?\n",
        "\n"
      ],
      "metadata": {
        "id": "UV0WINrZ-Ej7"
      },
      "id": "UV0WINrZ-Ej7"
    },
    {
      "cell_type": "markdown",
      "metadata": {
        "id": "cwGFDKRGCLmL"
      },
      "source": [
        "\n",
        "## 5. 👥 Wie konnte die Vase aus dem Gebäude geschafft werden? Komplizen?\n"
      ],
      "id": "cwGFDKRGCLmL"
    },
    {
      "cell_type": "markdown",
      "source": [
        "###SQL Query ✍️"
      ],
      "metadata": {
        "id": "BjsVogiWCLmL"
      },
      "id": "BjsVogiWCLmL"
    },
    {
      "cell_type": "code",
      "source": [
        "query_5 = '''\n",
        "\n",
        "--👉 Dein SQL Query hier\n",
        "\n",
        "'''\n",
        "result_5 = pd.read_sql_query(query_5, conn)\n",
        "result_5\n"
      ],
      "metadata": {
        "id": "FAMt_v7qCLmM",
        "colab": {
          "base_uri": "https://localhost:8080/",
          "height": 365
        },
        "outputId": "45fff0db-7d84-4905-e3a2-5ef2583a9545"
      },
      "execution_count": 15,
      "outputs": [
        {
          "output_type": "error",
          "ename": "TypeError",
          "evalue": "'NoneType' object is not iterable",
          "traceback": [
            "\u001b[0;31m---------------------------------------------------------------------------\u001b[0m",
            "\u001b[0;31mTypeError\u001b[0m                                 Traceback (most recent call last)",
            "\u001b[0;32m<ipython-input-15-454d1c15c539>\u001b[0m in \u001b[0;36m<cell line: 0>\u001b[0;34m()\u001b[0m\n\u001b[1;32m      4\u001b[0m \u001b[0;34m\u001b[0m\u001b[0m\n\u001b[1;32m      5\u001b[0m '''\n\u001b[0;32m----> 6\u001b[0;31m \u001b[0mresult_5\u001b[0m \u001b[0;34m=\u001b[0m \u001b[0mpd\u001b[0m\u001b[0;34m.\u001b[0m\u001b[0mread_sql_query\u001b[0m\u001b[0;34m(\u001b[0m\u001b[0mquery_5\u001b[0m\u001b[0;34m,\u001b[0m \u001b[0mconn\u001b[0m\u001b[0;34m)\u001b[0m\u001b[0;34m\u001b[0m\u001b[0;34m\u001b[0m\u001b[0m\n\u001b[0m\u001b[1;32m      7\u001b[0m \u001b[0mresult_5\u001b[0m\u001b[0;34m\u001b[0m\u001b[0;34m\u001b[0m\u001b[0m\n",
            "\u001b[0;32m/usr/local/lib/python3.11/dist-packages/pandas/io/sql.py\u001b[0m in \u001b[0;36mread_sql_query\u001b[0;34m(sql, con, index_col, coerce_float, params, parse_dates, chunksize, dtype, dtype_backend)\u001b[0m\n\u001b[1;32m    524\u001b[0m \u001b[0;34m\u001b[0m\u001b[0m\n\u001b[1;32m    525\u001b[0m     \u001b[0;32mwith\u001b[0m \u001b[0mpandasSQL_builder\u001b[0m\u001b[0;34m(\u001b[0m\u001b[0mcon\u001b[0m\u001b[0;34m)\u001b[0m \u001b[0;32mas\u001b[0m \u001b[0mpandas_sql\u001b[0m\u001b[0;34m:\u001b[0m\u001b[0;34m\u001b[0m\u001b[0;34m\u001b[0m\u001b[0m\n\u001b[0;32m--> 526\u001b[0;31m         return pandas_sql.read_query(\n\u001b[0m\u001b[1;32m    527\u001b[0m             \u001b[0msql\u001b[0m\u001b[0;34m,\u001b[0m\u001b[0;34m\u001b[0m\u001b[0;34m\u001b[0m\u001b[0m\n\u001b[1;32m    528\u001b[0m             \u001b[0mindex_col\u001b[0m\u001b[0;34m=\u001b[0m\u001b[0mindex_col\u001b[0m\u001b[0;34m,\u001b[0m\u001b[0;34m\u001b[0m\u001b[0;34m\u001b[0m\u001b[0m\n",
            "\u001b[0;32m/usr/local/lib/python3.11/dist-packages/pandas/io/sql.py\u001b[0m in \u001b[0;36mread_query\u001b[0;34m(self, sql, index_col, coerce_float, parse_dates, params, chunksize, dtype, dtype_backend)\u001b[0m\n\u001b[1;32m   2737\u001b[0m     ) -> DataFrame | Iterator[DataFrame]:\n\u001b[1;32m   2738\u001b[0m         \u001b[0mcursor\u001b[0m \u001b[0;34m=\u001b[0m \u001b[0mself\u001b[0m\u001b[0;34m.\u001b[0m\u001b[0mexecute\u001b[0m\u001b[0;34m(\u001b[0m\u001b[0msql\u001b[0m\u001b[0;34m,\u001b[0m \u001b[0mparams\u001b[0m\u001b[0;34m)\u001b[0m\u001b[0;34m\u001b[0m\u001b[0;34m\u001b[0m\u001b[0m\n\u001b[0;32m-> 2739\u001b[0;31m         \u001b[0mcolumns\u001b[0m \u001b[0;34m=\u001b[0m \u001b[0;34m[\u001b[0m\u001b[0mcol_desc\u001b[0m\u001b[0;34m[\u001b[0m\u001b[0;36m0\u001b[0m\u001b[0;34m]\u001b[0m \u001b[0;32mfor\u001b[0m \u001b[0mcol_desc\u001b[0m \u001b[0;32min\u001b[0m \u001b[0mcursor\u001b[0m\u001b[0;34m.\u001b[0m\u001b[0mdescription\u001b[0m\u001b[0;34m]\u001b[0m\u001b[0;34m\u001b[0m\u001b[0;34m\u001b[0m\u001b[0m\n\u001b[0m\u001b[1;32m   2740\u001b[0m \u001b[0;34m\u001b[0m\u001b[0m\n\u001b[1;32m   2741\u001b[0m         \u001b[0;32mif\u001b[0m \u001b[0mchunksize\u001b[0m \u001b[0;32mis\u001b[0m \u001b[0;32mnot\u001b[0m \u001b[0;32mNone\u001b[0m\u001b[0;34m:\u001b[0m\u001b[0;34m\u001b[0m\u001b[0;34m\u001b[0m\u001b[0m\n",
            "\u001b[0;31mTypeError\u001b[0m: 'NoneType' object is not iterable"
          ]
        }
      ],
      "id": "FAMt_v7qCLmM"
    },
    {
      "cell_type": "markdown",
      "source": [
        "###Python Code 🐍"
      ],
      "metadata": {
        "id": "eMlpYnqVCLmM"
      },
      "id": "eMlpYnqVCLmM"
    },
    {
      "cell_type": "markdown",
      "source": [],
      "metadata": {
        "id": "w2UAgmeSCLmM"
      },
      "id": "w2UAgmeSCLmM"
    },
    {
      "cell_type": "code",
      "source": [
        "#Dein Python Code hier 🐍\n"
      ],
      "metadata": {
        "id": "PXQ_SW8rCLmM"
      },
      "execution_count": 16,
      "outputs": [],
      "id": "PXQ_SW8rCLmM"
    },
    {
      "cell_type": "markdown",
      "source": [
        "###⚠️ Hinweis (bitte nur ausklappen, wenn nötig!)"
      ],
      "metadata": {
        "id": "Dq2vgv8SCLmM"
      },
      "id": "Dq2vgv8SCLmM"
    },
    {
      "cell_type": "markdown",
      "source": [
        "🔍 Fünfter Hinweis:\n",
        ">Sehr spannend! 🕵️‍♂️ Es scheint, als hätte der Verdächtige die Vase in der Besuchertoilette zwischengelagert. 🚻 Aber wie konnte die Beute von dort verschwinden? Es ist wahrscheinlich, dass der Täter einen Komplizen hatte. 👥 Überprüfe die Zeugenaussagen erneut, um hier Licht ins Dunkle zu bringen?\n",
        "\n"
      ],
      "metadata": {
        "id": "UOAxpS2lCLmM"
      },
      "id": "UOAxpS2lCLmM"
    },
    {
      "cell_type": "markdown",
      "metadata": {
        "id": "WZ7sozy9GrkQ"
      },
      "source": [
        "\n",
        "## 6. 🔌 Wie hat der Komplize den Diebstahl vorbereitet?\n"
      ],
      "id": "WZ7sozy9GrkQ"
    },
    {
      "cell_type": "markdown",
      "source": [
        "###SQL Query ✍️"
      ],
      "metadata": {
        "id": "zv5EAZl4GrkV"
      },
      "id": "zv5EAZl4GrkV"
    },
    {
      "cell_type": "code",
      "source": [
        "query_6 = '''\n",
        "\n",
        "--👉 Dein SQL Query hier\n",
        "\n",
        "'''\n",
        "result_6 = pd.read_sql_query(query_6, conn)\n",
        "result_6\n"
      ],
      "metadata": {
        "id": "ojQtuzX6GrkW",
        "colab": {
          "base_uri": "https://localhost:8080/",
          "height": 365
        },
        "outputId": "a77fe848-fe0b-4fbe-bb8f-4b6ed26f68ca"
      },
      "execution_count": 17,
      "outputs": [
        {
          "output_type": "error",
          "ename": "TypeError",
          "evalue": "'NoneType' object is not iterable",
          "traceback": [
            "\u001b[0;31m---------------------------------------------------------------------------\u001b[0m",
            "\u001b[0;31mTypeError\u001b[0m                                 Traceback (most recent call last)",
            "\u001b[0;32m<ipython-input-17-1b413ae3c985>\u001b[0m in \u001b[0;36m<cell line: 0>\u001b[0;34m()\u001b[0m\n\u001b[1;32m      4\u001b[0m \u001b[0;34m\u001b[0m\u001b[0m\n\u001b[1;32m      5\u001b[0m '''\n\u001b[0;32m----> 6\u001b[0;31m \u001b[0mresult_6\u001b[0m \u001b[0;34m=\u001b[0m \u001b[0mpd\u001b[0m\u001b[0;34m.\u001b[0m\u001b[0mread_sql_query\u001b[0m\u001b[0;34m(\u001b[0m\u001b[0mquery_6\u001b[0m\u001b[0;34m,\u001b[0m \u001b[0mconn\u001b[0m\u001b[0;34m)\u001b[0m\u001b[0;34m\u001b[0m\u001b[0;34m\u001b[0m\u001b[0m\n\u001b[0m\u001b[1;32m      7\u001b[0m \u001b[0mresult_6\u001b[0m\u001b[0;34m\u001b[0m\u001b[0;34m\u001b[0m\u001b[0m\n",
            "\u001b[0;32m/usr/local/lib/python3.11/dist-packages/pandas/io/sql.py\u001b[0m in \u001b[0;36mread_sql_query\u001b[0;34m(sql, con, index_col, coerce_float, params, parse_dates, chunksize, dtype, dtype_backend)\u001b[0m\n\u001b[1;32m    524\u001b[0m \u001b[0;34m\u001b[0m\u001b[0m\n\u001b[1;32m    525\u001b[0m     \u001b[0;32mwith\u001b[0m \u001b[0mpandasSQL_builder\u001b[0m\u001b[0;34m(\u001b[0m\u001b[0mcon\u001b[0m\u001b[0;34m)\u001b[0m \u001b[0;32mas\u001b[0m \u001b[0mpandas_sql\u001b[0m\u001b[0;34m:\u001b[0m\u001b[0;34m\u001b[0m\u001b[0;34m\u001b[0m\u001b[0m\n\u001b[0;32m--> 526\u001b[0;31m         return pandas_sql.read_query(\n\u001b[0m\u001b[1;32m    527\u001b[0m             \u001b[0msql\u001b[0m\u001b[0;34m,\u001b[0m\u001b[0;34m\u001b[0m\u001b[0;34m\u001b[0m\u001b[0m\n\u001b[1;32m    528\u001b[0m             \u001b[0mindex_col\u001b[0m\u001b[0;34m=\u001b[0m\u001b[0mindex_col\u001b[0m\u001b[0;34m,\u001b[0m\u001b[0;34m\u001b[0m\u001b[0;34m\u001b[0m\u001b[0m\n",
            "\u001b[0;32m/usr/local/lib/python3.11/dist-packages/pandas/io/sql.py\u001b[0m in \u001b[0;36mread_query\u001b[0;34m(self, sql, index_col, coerce_float, parse_dates, params, chunksize, dtype, dtype_backend)\u001b[0m\n\u001b[1;32m   2737\u001b[0m     ) -> DataFrame | Iterator[DataFrame]:\n\u001b[1;32m   2738\u001b[0m         \u001b[0mcursor\u001b[0m \u001b[0;34m=\u001b[0m \u001b[0mself\u001b[0m\u001b[0;34m.\u001b[0m\u001b[0mexecute\u001b[0m\u001b[0;34m(\u001b[0m\u001b[0msql\u001b[0m\u001b[0;34m,\u001b[0m \u001b[0mparams\u001b[0m\u001b[0;34m)\u001b[0m\u001b[0;34m\u001b[0m\u001b[0;34m\u001b[0m\u001b[0m\n\u001b[0;32m-> 2739\u001b[0;31m         \u001b[0mcolumns\u001b[0m \u001b[0;34m=\u001b[0m \u001b[0;34m[\u001b[0m\u001b[0mcol_desc\u001b[0m\u001b[0;34m[\u001b[0m\u001b[0;36m0\u001b[0m\u001b[0;34m]\u001b[0m \u001b[0;32mfor\u001b[0m \u001b[0mcol_desc\u001b[0m \u001b[0;32min\u001b[0m \u001b[0mcursor\u001b[0m\u001b[0;34m.\u001b[0m\u001b[0mdescription\u001b[0m\u001b[0;34m]\u001b[0m\u001b[0;34m\u001b[0m\u001b[0;34m\u001b[0m\u001b[0m\n\u001b[0m\u001b[1;32m   2740\u001b[0m \u001b[0;34m\u001b[0m\u001b[0m\n\u001b[1;32m   2741\u001b[0m         \u001b[0;32mif\u001b[0m \u001b[0mchunksize\u001b[0m \u001b[0;32mis\u001b[0m \u001b[0;32mnot\u001b[0m \u001b[0;32mNone\u001b[0m\u001b[0;34m:\u001b[0m\u001b[0;34m\u001b[0m\u001b[0;34m\u001b[0m\u001b[0m\n",
            "\u001b[0;31mTypeError\u001b[0m: 'NoneType' object is not iterable"
          ]
        }
      ],
      "id": "ojQtuzX6GrkW"
    },
    {
      "cell_type": "markdown",
      "source": [
        "###Python Code 🐍"
      ],
      "metadata": {
        "id": "OwMWamhMGrkW"
      },
      "id": "OwMWamhMGrkW"
    },
    {
      "cell_type": "markdown",
      "source": [],
      "metadata": {
        "id": "jtvyJHOsGrkW"
      },
      "id": "jtvyJHOsGrkW"
    },
    {
      "cell_type": "code",
      "source": [
        "#Dein Python Code hier 🐍\n"
      ],
      "metadata": {
        "id": "gn1xC0mVGrkW"
      },
      "execution_count": 18,
      "outputs": [],
      "id": "gn1xC0mVGrkW"
    },
    {
      "cell_type": "markdown",
      "source": [
        "###⚠️ Hinweis (bitte nur ausklappen, wenn nötig!)"
      ],
      "metadata": {
        "id": "HzS5UjTZGrkW"
      },
      "id": "HzS5UjTZGrkW"
    },
    {
      "cell_type": "markdown",
      "source": [
        "🔍 Sechster Hinweis:\n",
        ">Du hast herausgefunden, dass Mitarbeiter Nummer 1 zur Überwachung des Sonderausstellungsbereiches eingeteilt war und sich zeitgleich mit dem Hauptverdächtigen auf der Besuchertoilette befand, als dieser dort vermutlich die Vase deponiert hat. 🚻🏺 Der Mitarbeiter, der den Bereich eigentlich überwachen sollte, war während des Diebstahls jedoch nicht anwesend – ein schwerwiegendes Detail.\n",
        "\n",
        "Es ist wahrscheinlich, dass er die Vase durch den Staff-Ausgang unbemerkt aus dem Gebäude geschmuggelt hat. 🚪🕵️ Aber die entscheidende Frage bleibt: Wie hängt der Stromausfall damit zusammen? 🔌💥 War er gezielt geplant, um die Überwachung zu umgehen? Vielleicht liefert dir die Analyse des Stromausfalls und der Mitarbeiteraktivitäten den letzten, entscheidenden Hinweis. 🔍\n",
        "\n"
      ],
      "metadata": {
        "id": "5yKY4M3eGrkW"
      },
      "id": "5yKY4M3eGrkW"
    },
    {
      "cell_type": "markdown",
      "source": [
        "##🎉 **Du hast es geschafft!** 🎉  \n",
        "\n",
        "🔎 Du hast den **Dieb und seine Komplizen** entlarvt! Jetzt ist es an der Zeit, den finalen Beweis zu liefern.  \n",
        "\n",
        "📄 **Erstelle eine TXT-Datei** mit dem **genauen Ablauf des Tathergangs**, inklusive **Timestamps**, und lade sie per **Merge Request** in folgendes Repository hoch: https://github.com/nicomasterschool/Data-Detective-Challenge\n",
        "\n",
        "📌 **Was muss in die Datei?**  \n",
        "✅ Dein **Name**  \n",
        "✅ Das **Skript zur Lösung der Challenge**  \n",
        "✅ Die **rekonstruierte Tat mit allen relevanten Zeitpunkten**  \n",
        "\n",
        "🚀 Lade die Datei hoch und schließe die Challenge offiziell ab! 🎩✨"
      ],
      "metadata": {
        "id": "Xb7CBibT0qwD"
      },
      "id": "Xb7CBibT0qwD"
    }
  ],
  "metadata": {
    "kernelspec": {
      "display_name": "myenv",
      "language": "python",
      "name": "python3"
    },
    "language_info": {
      "codemirror_mode": {
        "name": "ipython",
        "version": 3
      },
      "file_extension": ".py",
      "mimetype": "text/x-python",
      "name": "python",
      "nbconvert_exporter": "python",
      "pygments_lexer": "ipython3",
      "version": "3.9.15"
    },
    "colab": {
      "provenance": [],
      "collapsed_sections": [
        "7c0facac",
        "5e1ac3c8",
        "69v1Qja54eFv",
        "s_gcd1OE48gm",
        "902ebaaf",
        "JG0Z-Xr7pkjy",
        "FXbcpYejpzPy",
        "2KZv02AQsqQ3",
        "156cvGCNsqQ-",
        "bbqPGrkfsqQ_",
        "SB_traoosxTk",
        "PF8p7LBisxTk",
        "Btg03dMMsxTl",
        "LB1g0w-Y-Ej6",
        "UokpYTAz-Ej7",
        "J4z2fXLe-Ej7",
        "cwGFDKRGCLmL",
        "BjsVogiWCLmL",
        "eMlpYnqVCLmM",
        "Dq2vgv8SCLmM",
        "WZ7sozy9GrkQ",
        "zv5EAZl4GrkV",
        "OwMWamhMGrkW",
        "HzS5UjTZGrkW"
      ],
      "include_colab_link": true
    }
  },
  "nbformat": 4,
  "nbformat_minor": 5
}